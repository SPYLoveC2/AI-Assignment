{
 "cells": [
  {
   "cell_type": "markdown",
   "id": "2b133047-2075-4c1d-ae5f-8f7466fd789c",
   "metadata": {},
   "source": [
    "### Library loading"
   ]
  },
  {
   "cell_type": "code",
   "execution_count": 1,
   "id": "6451d441-b026-432b-97a6-03b3cbb0597d",
   "metadata": {},
   "outputs": [],
   "source": [
    "import pandas as pd\n",
    "import configparser"
   ]
  },
  {
   "cell_type": "markdown",
   "id": "eb195402-7a43-4099-8eed-b44d00a9fad0",
   "metadata": {},
   "source": [
    "### Paths loading"
   ]
  },
  {
   "cell_type": "code",
   "execution_count": 2,
   "id": "1c76fd8f-d46a-4a7b-9cc7-8c9bb3c6f944",
   "metadata": {},
   "outputs": [],
   "source": [
    "config = configparser.ConfigParser()\n",
    "config.read('config.ini')\n",
    "\n",
    "full_raw_dataset_path = config['PATHS']['full_raw_dataset_path']\n",
    "prepared_dataset_path = config['PATHS']['prepared_dataset_path']\n"
   ]
  },
  {
   "cell_type": "markdown",
   "id": "d78cadfc-322c-4845-a070-c39770f31e7e",
   "metadata": {},
   "source": [
    "### Data loading and preprocessing"
   ]
  },
  {
   "cell_type": "code",
   "execution_count": 3,
   "id": "89fcd215-ea01-4d42-8a23-68bd3c100426",
   "metadata": {},
   "outputs": [
    {
     "data": {
      "text/plain": [
       "(2231142, 6)"
      ]
     },
     "execution_count": 3,
     "metadata": {},
     "output_type": "execute_result"
    }
   ],
   "source": [
    "df = pd.read_csv(full_raw_dataset_path)\n",
    "df.shape"
   ]
  },
  {
   "cell_type": "code",
   "execution_count": 4,
   "id": "683c3734-171b-4741-9259-5e6a926f8f6d",
   "metadata": {},
   "outputs": [
    {
     "data": {
      "text/html": [
       "<div>\n",
       "<style scoped>\n",
       "    .dataframe tbody tr th:only-of-type {\n",
       "        vertical-align: middle;\n",
       "    }\n",
       "\n",
       "    .dataframe tbody tr th {\n",
       "        vertical-align: top;\n",
       "    }\n",
       "\n",
       "    .dataframe thead th {\n",
       "        text-align: right;\n",
       "    }\n",
       "</style>\n",
       "<table border=\"1\" class=\"dataframe\">\n",
       "  <thead>\n",
       "    <tr style=\"text-align: right;\">\n",
       "      <th></th>\n",
       "      <th>title</th>\n",
       "    </tr>\n",
       "    <tr>\n",
       "      <th>source</th>\n",
       "      <th></th>\n",
       "    </tr>\n",
       "  </thead>\n",
       "  <tbody>\n",
       "    <tr>\n",
       "      <th>Gathered</th>\n",
       "      <td>1643097</td>\n",
       "    </tr>\n",
       "    <tr>\n",
       "      <th>Recipes1M</th>\n",
       "      <td>588044</td>\n",
       "    </tr>\n",
       "  </tbody>\n",
       "</table>\n",
       "</div>"
      ],
      "text/plain": [
       "             title\n",
       "source            \n",
       "Gathered   1643097\n",
       "Recipes1M   588044"
      ]
     },
     "execution_count": 4,
     "metadata": {},
     "output_type": "execute_result"
    }
   ],
   "source": [
    "df.groupby('source').agg({'title':'count'})"
   ]
  },
  {
   "cell_type": "code",
   "execution_count": 5,
   "id": "0f1873f4-d370-4b77-8eec-75f517dc58a9",
   "metadata": {},
   "outputs": [
    {
     "data": {
      "text/html": [
       "<div>\n",
       "<style scoped>\n",
       "    .dataframe tbody tr th:only-of-type {\n",
       "        vertical-align: middle;\n",
       "    }\n",
       "\n",
       "    .dataframe tbody tr th {\n",
       "        vertical-align: top;\n",
       "    }\n",
       "\n",
       "    .dataframe thead th {\n",
       "        text-align: right;\n",
       "    }\n",
       "</style>\n",
       "<table border=\"1\" class=\"dataframe\">\n",
       "  <thead>\n",
       "    <tr style=\"text-align: right;\">\n",
       "      <th></th>\n",
       "      <th>input_text</th>\n",
       "      <th>target_text</th>\n",
       "    </tr>\n",
       "  </thead>\n",
       "  <tbody>\n",
       "    <tr>\n",
       "      <th>0</th>\n",
       "      <td>1 c. firmly packed brown sugar, 1/2 c. evapora...</td>\n",
       "      <td>in a heavy 2-quart saucepan, mix brown sugar, ...</td>\n",
       "    </tr>\n",
       "    <tr>\n",
       "      <th>1</th>\n",
       "      <td>1 small jar chipped beef, cut up, 4 boned chic...</td>\n",
       "      <td>place chipped beef on bottom of baking dish. p...</td>\n",
       "    </tr>\n",
       "    <tr>\n",
       "      <th>2</th>\n",
       "      <td>2 (16 oz.) pkg. frozen corn, 1 (8 oz.) pkg. cr...</td>\n",
       "      <td>in a slow cooker, combine all ingredients. cov...</td>\n",
       "    </tr>\n",
       "    <tr>\n",
       "      <th>3</th>\n",
       "      <td>1 large whole chicken, 2 (10 1/2 oz.) cans chi...</td>\n",
       "      <td>boil and debone chicken. put bite size pieces ...</td>\n",
       "    </tr>\n",
       "    <tr>\n",
       "      <th>4</th>\n",
       "      <td>1 c. peanut butter, 3/4 c. graham cracker crum...</td>\n",
       "      <td>combine first four ingredients and press in 13...</td>\n",
       "    </tr>\n",
       "  </tbody>\n",
       "</table>\n",
       "</div>"
      ],
      "text/plain": [
       "                                          input_text  \\\n",
       "0  1 c. firmly packed brown sugar, 1/2 c. evapora...   \n",
       "1  1 small jar chipped beef, cut up, 4 boned chic...   \n",
       "2  2 (16 oz.) pkg. frozen corn, 1 (8 oz.) pkg. cr...   \n",
       "3  1 large whole chicken, 2 (10 1/2 oz.) cans chi...   \n",
       "4  1 c. peanut butter, 3/4 c. graham cracker crum...   \n",
       "\n",
       "                                         target_text  \n",
       "0  in a heavy 2-quart saucepan, mix brown sugar, ...  \n",
       "1  place chipped beef on bottom of baking dish. p...  \n",
       "2  in a slow cooker, combine all ingredients. cov...  \n",
       "3  boil and debone chicken. put bite size pieces ...  \n",
       "4  combine first four ingredients and press in 13...  "
      ]
     },
     "execution_count": 5,
     "metadata": {},
     "output_type": "execute_result"
    }
   ],
   "source": [
    "import ast\n",
    "import numpy as np\n",
    "\n",
    "######## Convert 'ingredients' and 'directions' columns from string to list\n",
    "df['ingredients_list'] = df['ingredients'].map(ast.literal_eval)\n",
    "df['directions_list'] = df['directions'].map(ast.literal_eval)\n",
    "\n",
    "######## Create input_text and target_text using vectorized operations\n",
    "df['input_text'] = df['ingredients_list'].map(lambda x: \", \".join(x).lower())\n",
    "df['target_text'] = df['directions_list'].map(lambda x: \" \".join(x).lower())\n",
    "\n",
    "######## Replace empty strings with NaN\n",
    "df['input_text'] = df['input_text'].replace('', np.nan)\n",
    "df['target_text'] = df['target_text'].replace('', np.nan)\n",
    "df['target_text'] = df['target_text'].str.replace('\\x00', '', regex=False)\n",
    "df.dropna(how='any', inplace=True)\n",
    "\n",
    "######## Select final processed columns\n",
    "df_processed = df[['input_text', 'target_text']]\n",
    "df_processed.head()\n"
   ]
  },
  {
   "cell_type": "code",
   "execution_count": 6,
   "id": "067dbe1f-ac0f-4066-9def-6ac53c16734f",
   "metadata": {},
   "outputs": [
    {
     "data": {
      "text/plain": [
       "(2231127, 2)"
      ]
     },
     "execution_count": 6,
     "metadata": {},
     "output_type": "execute_result"
    }
   ],
   "source": [
    "######## filtering out unwanted text ########\n",
    "\n",
    "garbage_text = ['none', 'n/a', 'copyright', 'NA', 'nan']\n",
    "\n",
    "df_processed = df_processed[~df_processed['input_text'].isin(garbage_text)]\n",
    "df_processed = df_processed[~df_processed['target_text'].isin(garbage_text)]\n",
    "df_processed.shape"
   ]
  },
  {
   "cell_type": "code",
   "execution_count": 7,
   "id": "176cf9b6-934a-4d83-9fd4-f2d7fbb5dfc1",
   "metadata": {},
   "outputs": [
    {
     "data": {
      "text/plain": [
       "(2231114, 2)"
      ]
     },
     "execution_count": 7,
     "metadata": {},
     "output_type": "execute_result"
    }
   ],
   "source": [
    "######## filtering out text having length less than 3 in input_text ########\n",
    "\n",
    "df_processed = df_processed[df_processed['input_text'].str.len()>2]\n",
    "df_processed.shape"
   ]
  },
  {
   "cell_type": "code",
   "execution_count": 8,
   "id": "87560370-cbad-49e9-bd00-a12fa61a776f",
   "metadata": {},
   "outputs": [
    {
     "data": {
      "text/plain": [
       "(2197013, 2)"
      ]
     },
     "execution_count": 8,
     "metadata": {},
     "output_type": "execute_result"
    }
   ],
   "source": [
    "######## filtering out text having length less than 50 in target_text ########\n",
    "\n",
    "df_processed = df_processed[df_processed['target_text'].str.len()>50]\n",
    "df_processed.shape"
   ]
  },
  {
   "cell_type": "code",
   "execution_count": 9,
   "id": "0013b3c4-d4cc-4d1d-b10b-68787617da15",
   "metadata": {},
   "outputs": [
    {
     "data": {
      "text/plain": [
       "(10000, 2)"
      ]
     },
     "execution_count": 9,
     "metadata": {},
     "output_type": "execute_result"
    }
   ],
   "source": [
    "######## Randomly choosing 10K records for training and validation\n",
    "\n",
    "df_processed = df_processed.sample(10000,random_state=0)\n",
    "df_processed.shape"
   ]
  },
  {
   "cell_type": "code",
   "execution_count": 10,
   "id": "1005f320-a474-4ad7-a605-528b887d5e35",
   "metadata": {},
   "outputs": [],
   "source": [
    "df_processed.to_csv(prepared_dataset_path, index=False)"
   ]
  },
  {
   "cell_type": "code",
   "execution_count": null,
   "id": "684babc3-f75b-4497-b403-1c3ad7c493f6",
   "metadata": {},
   "outputs": [],
   "source": []
  },
  {
   "cell_type": "code",
   "execution_count": null,
   "id": "3b2c23fa-4f7f-4f39-99e8-561396fe0b6a",
   "metadata": {},
   "outputs": [],
   "source": []
  }
 ],
 "metadata": {
  "kernelspec": {
   "display_name": "Python 3 (ipykernel)",
   "language": "python",
   "name": "python3"
  },
  "language_info": {
   "codemirror_mode": {
    "name": "ipython",
    "version": 3
   },
   "file_extension": ".py",
   "mimetype": "text/x-python",
   "name": "python",
   "nbconvert_exporter": "python",
   "pygments_lexer": "ipython3",
   "version": "3.12.11"
  }
 },
 "nbformat": 4,
 "nbformat_minor": 5
}
