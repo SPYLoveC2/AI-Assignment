{
 "cells": [
  {
   "cell_type": "code",
   "execution_count": 1,
   "id": "39d99616-a5ed-4fc0-a66a-abeaf191abd1",
   "metadata": {},
   "outputs": [],
   "source": [
    "import pandas as pd"
   ]
  },
  {
   "cell_type": "code",
   "execution_count": 2,
   "id": "0e295495-f891-48b9-8951-8b4c3b241b96",
   "metadata": {},
   "outputs": [],
   "source": [
    "names_list = [\n",
    "    \"Geetha\", \"Geeta\", \"Gita\", \"Githa\", \"Gitu\",\n",
    "    \"Geetu\", \"Geethika\", \"Geetanjali\", \"Geetika\", \"Gheetu\",\n",
    "\n",
    "    \"Anjali\", \"Anjaly\", \"Anjli\", \"Anjalee\", \"Anjaleena\",\n",
    "    \"Anjalika\", \"Anjalini\", \"Anjalina\", \"Anjalikaa\", \"Anjlee\",\n",
    "\n",
    "    \"Sita\", \"Seeta\", \"Sitha\", \"Sitta\", \"Seetha\",\n",
    "    \"Sitara\", \"Sitamma\", \"Sity\", \"Sitaa\", \"Sitina\",\n",
    "\n",
    "    \"Meena\", \"Mina\", \"Meenah\", \"Myna\", \"Meenakshi\",\n",
    "    \"Minakshi\", \"Meenal\", \"Meenu\", \"Minoo\", \"Minna\",\n",
    "\n",
    "    \"Rani\", \"Ranee\", \"Raani\", \"Ranii\", \"Raneeta\",\n",
    "    \"Ranika\", \"Ranitha\", \"Rania\", \"Raneeja\", \"Raneesha\",\n",
    "\n",
    "    \"Lakshmi\", \"Laxmi\", \"Laksmi\", \"Laxhme\", \"Lakshmee\",\n",
    "    \"Luxmi\", \"Lakxmi\", \"Laxhma\", \"Laxmina\", \"Laxhmiya\",\n",
    "\n",
    "    \"Radha\", \"Raadha\", \"Rada\", \"Radda\", \"Radhaa\",\n",
    "    \"Radhika\", \"Radhyaa\", \"Radhani\", \"Radhamani\", \"Radhiya\",\n",
    "\n",
    "    \"Pooja\", \"Puja\", \"Poojaa\", \"Pooji\", \"Pujah\",\n",
    "    \"Poojy\", \"Poojitha\", \"Pujitha\", \"Poojyta\", \"Pujya\",\n",
    "\n",
    "    \"Rekha\", \"Rekhaa\", \"Rekhha\", \"Reka\", \"Rekiya\",\n",
    "    \"Rekhal\", \"Reekha\", \"Rehka\", \"Rekkha\", \"Rekhita\",\n",
    "\n",
    "    \"Priya\", \"Preeya\", \"Priyaa\", \"Pria\", \"Preeyaah\",\n",
    "    \"Priyanthi\", \"Priyanka\", \"Priyashree\", \"Priyali\", \"Priyathi\"\n",
    "]\n"
   ]
  },
  {
   "cell_type": "code",
   "execution_count": 3,
   "id": "df8df95b-a7bf-42b0-8be8-986db81a1649",
   "metadata": {},
   "outputs": [],
   "source": [
    "names_df = pd.DataFrame(names_list, columns=['Names'])"
   ]
  },
  {
   "cell_type": "code",
   "execution_count": 4,
   "id": "7525fe86-d993-4614-ba77-194bba452404",
   "metadata": {},
   "outputs": [],
   "source": [
    "names_df.to_csv(\"names_df.csv\", index=False)"
   ]
  },
  {
   "cell_type": "code",
   "execution_count": null,
   "id": "7987aa9b-cdc5-4c1b-9ddb-95d60e005d27",
   "metadata": {},
   "outputs": [],
   "source": []
  }
 ],
 "metadata": {
  "kernelspec": {
   "display_name": "Python 3 (ipykernel)",
   "language": "python",
   "name": "python3"
  },
  "language_info": {
   "codemirror_mode": {
    "name": "ipython",
    "version": 3
   },
   "file_extension": ".py",
   "mimetype": "text/x-python",
   "name": "python",
   "nbconvert_exporter": "python",
   "pygments_lexer": "ipython3",
   "version": "3.12.11"
  }
 },
 "nbformat": 4,
 "nbformat_minor": 5
}
